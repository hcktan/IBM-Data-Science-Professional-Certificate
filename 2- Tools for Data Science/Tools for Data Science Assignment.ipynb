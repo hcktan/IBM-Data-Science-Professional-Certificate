{
  "metadata": {
    "kernelspec": {
      "name": "python",
      "display_name": "Python (Pyodide)",
      "language": "python"
    },
    "language_info": {
      "codemirror_mode": {
        "name": "python",
        "version": 3
      },
      "file_extension": ".py",
      "mimetype": "text/x-python",
      "name": "python",
      "nbconvert_exporter": "python",
      "pygments_lexer": "ipython3",
      "version": "3.8"
    }
  },
  "nbformat_minor": 5,
  "nbformat": 4,
  "cells": [
    {
      "id": "06c0483c-c4df-4d43-9f40-8203efc7f554",
      "cell_type": "markdown",
      "source": "# Tools for Data Science Final Assignment",
      "metadata": {}
    },
    {
      "id": "d041d46f-126c-4216-9e51-bfe0d6e886bd",
      "cell_type": "markdown",
      "source": "## Introduction\nThis notebook contains key information about data science tools, languages, and libraries. It also includes basic arithmetic operations.",
      "metadata": {}
    },
    {
      "id": "afda61e5-eb51-4913-a9ca-5df60adbc967",
      "cell_type": "markdown",
      "source": "## Data Science Languages\n- Python\n- R\n- SQL\n- Julia\n- Scala",
      "metadata": {}
    },
    {
      "id": "20355a0a-8511-42eb-b4dc-168f0404c51b",
      "cell_type": "markdown",
      "source": "## Data Science Libraries\n\nBelow are some of the most commonly used libraries in Data Science along with their functionalities:\n\n- **NumPy**: A fundamental library for numerical computing in Python, providing support for large, multi-dimensional arrays and mathematical functions.\n- **Pandas**: A powerful data analysis and manipulation tool that provides data structures like DataFrames to work with structured data efficiently.\n- **Matplotlib**: A visualization library that helps create static, animated, and interactive plots for data representation.\n- **Scikit-Learn**: A machine learning library that offers simple and efficient tools for data mining and analysis, including classification, regression, and clustering.\n- **TensorFlow**: An open-source deep learning framework developed by Google, used for building and training neural networks for AI applications.\n",
      "metadata": {}
    },
    {
      "id": "181ca86e-7fba-4fcc-84ca-e18abf2a0158",
      "cell_type": "markdown",
      "source": "## Data Science Tools\n\nBelow is a table showcasing various tools used in Data Science.\n\n| Tool              | Category                 | Description                                 |\n|------------------|-------------------------|---------------------------------------------|\n| Jupyter Notebook | Interactive Environment | Allows users to write and execute code in multiple languages |\n| RStudio         | IDE                      | An integrated development environment for R programming |\n| TensorFlow      | Machine Learning Library | An open-source library for machine learning and deep learning applications |\n| Apache Spark    | Big Data Processing      | A powerful analytics engine for big data processing |\n| SQL             | Database Query Language  | A standard language for managing and querying databases |\n\n### **Examples of How These Tools Are Used**\n1. **Jupyter Notebook** is used by Data Scientists to create and share documents containing live code, equations, visualizations, and narrative text.\n2. **RStudio** is widely used in statistical computing and graphics for data analysis.\n3. **TensorFlow** helps in training deep learning models for image recognition and natural language processing tasks.\n4. **Apache Spark** is utilized for processing large-scale datasets quickly.\n5. **SQL** is essential for extracting and manipulating structured data from relational databases.\n",
      "metadata": {}
    },
    {
      "id": "56368612-70a8-41d7-b440-a39334033f6c",
      "cell_type": "markdown",
      "source": "## Arithmetic Expressions\n\nArithmetic expressions are mathematical calculations performed using operators such as addition (`+`), subtraction (`-`), multiplication (`*`), and division (`/`). These expressions are widely used in Data Science for numerical computations.\n\n### Examples:\n\n1. **Addition:** `5 + 3 = 8`\n2. **Subtraction:** `10 - 4 = 6`\n3. **Multiplication:** `7 * 2 = 14`\n4. **Division:** `20 / 5 = 4`\n5. **Exponentiation:** `2 ** 3 = 8` (2 raised to the power of 3)\n6. **Modulus:** `10 % 3 = 1` (Remainder when 10 is divided by 3)\n",
      "metadata": {}
    },
    {
      "id": "7bb481e1-29e9-4cc5-bcd1-2fe652af40f5",
      "cell_type": "code",
      "source": "# Multiplication and Addition Example\n\na = 6\nb = 4\n\n# Multiply a and b, then add 10\nresult = (a * b) + 10\n\n# Display the result\nprint(result)\n",
      "metadata": {
        "trusted": true
      },
      "outputs": [
        {
          "name": "stdout",
          "output_type": "stream",
          "text": "34\n"
        }
      ],
      "execution_count": 10
    },
    {
      "id": "ff2882b7-4e16-468c-b6c5-bd27b2ade216",
      "cell_type": "code",
      "source": "# Convert Minutes to Hours\n\nminutes = 150  # Example: 150 minutes\nhours = minutes / 60  # Convert minutes to hours\n\n# Display the result\nprint(hours)\n",
      "metadata": {
        "trusted": true
      },
      "outputs": [
        {
          "name": "stdout",
          "output_type": "stream",
          "text": "2.5\n"
        }
      ],
      "execution_count": 9
    },
    {
      "id": "9148ef43-ed39-4466-aa01-3b04bec7b7fd",
      "cell_type": "markdown",
      "source": "## Objectives\n\nIn this notebook, we aim to:\n\n- List important Data Science languages.\n- Identify commonly used Data Science libraries.\n- Present various tools used in Data Science.\n- Perform basic arithmetic operations using Python.\n- Convert time units (minutes to hours) with a simple Python script.\n\n",
      "metadata": {}
    },
    {
      "id": "bc923397-da96-4bc8-b55d-def6aead5c59",
      "cell_type": "markdown",
      "source": "## Author\n\nHcktan\n",
      "metadata": {}
    },
    {
      "id": "88906e10-fefe-48b9-a646-d948aa324562",
      "cell_type": "code",
      "source": "",
      "metadata": {
        "trusted": true
      },
      "outputs": [],
      "execution_count": null
    }
  ]
}